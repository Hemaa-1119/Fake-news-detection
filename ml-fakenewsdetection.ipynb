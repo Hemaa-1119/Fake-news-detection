{
 "cells": [
  {
   "cell_type": "code",
   "execution_count": 1,
   "id": "695cc17f",
   "metadata": {
    "_cell_guid": "b1076dfc-b9ad-4769-8c92-a6c4dae69d19",
    "_uuid": "8f2839f25d086af736a60e9eeb907d3b93b6e0e5",
    "execution": {
     "iopub.execute_input": "2025-05-11T10:04:52.094802Z",
     "iopub.status.busy": "2025-05-11T10:04:52.094433Z",
     "iopub.status.idle": "2025-05-11T10:04:54.061227Z",
     "shell.execute_reply": "2025-05-11T10:04:54.060127Z"
    },
    "papermill": {
     "duration": 1.972187,
     "end_time": "2025-05-11T10:04:54.062775",
     "exception": false,
     "start_time": "2025-05-11T10:04:52.090588",
     "status": "completed"
    },
    "tags": []
   },
   "outputs": [
    {
     "name": "stdout",
     "output_type": "stream",
     "text": [
      "/kaggle/input/fake-and-real-news-dataset/True.csv\n",
      "/kaggle/input/fake-and-real-news-dataset/Fake.csv\n"
     ]
    }
   ],
   "source": [
    "# This Python 3 environment comes with many helpful analytics libraries installed\n",
    "# It is defined by the kaggle/python Docker image: https://github.com/kaggle/docker-python\n",
    "# For example, here's several helpful packages to load\n",
    "\n",
    "import numpy as np # linear algebra\n",
    "import pandas as pd # data processing, CSV file I/O (e.g. pd.read_csv)\n",
    "\n",
    "# Input data files are available in the read-only \"../input/\" directory\n",
    "# For example, running this (by clicking run or pressing Shift+Enter) will list all files under the input directory\n",
    "\n",
    "import os\n",
    "for dirname, _, filenames in os.walk('/kaggle/input'):\n",
    "    for filename in filenames:\n",
    "        print(os.path.join(dirname, filename))\n",
    "\n",
    "# You can write up to 20GB to the current directory (/kaggle/working/) that gets preserved as output when you create a version using \"Save & Run All\" \n",
    "# You can also write temporary files to /kaggle/temp/, but they won't be saved outside of the current session"
   ]
  },
  {
   "cell_type": "code",
   "execution_count": 2,
   "id": "abcd3c2c",
   "metadata": {
    "execution": {
     "iopub.execute_input": "2025-05-11T10:04:54.068129Z",
     "iopub.status.busy": "2025-05-11T10:04:54.067644Z",
     "iopub.status.idle": "2025-05-11T10:04:57.066639Z",
     "shell.execute_reply": "2025-05-11T10:04:57.065382Z"
    },
    "papermill": {
     "duration": 3.00361,
     "end_time": "2025-05-11T10:04:57.068463",
     "exception": false,
     "start_time": "2025-05-11T10:04:54.064853",
     "status": "completed"
    },
    "tags": []
   },
   "outputs": [
    {
     "name": "stdout",
     "output_type": "stream",
     "text": [
      "Total articles: 44898\n",
      "Fake news count: 23481\n",
      "Real news count: 21417\n",
      "\n",
      "Sample data:\n",
      "                                               title  \\\n",
      "0  Ben Stein Calls Out 9th Circuit Court: Committ...   \n",
      "1  Trump drops Steve Bannon from National Securit...   \n",
      "2  Puerto Rico expects U.S. to lift Jones Act shi...   \n",
      "3   OOPS: Trump Just Accidentally Confirmed He Le...   \n",
      "4  Donald Trump heads for Scotland to reopen a go...   \n",
      "\n",
      "                                                text       subject  \\\n",
      "0  21st Century Wire says Ben Stein, reputable pr...       US_News   \n",
      "1  WASHINGTON (Reuters) - U.S. President Donald T...  politicsNews   \n",
      "2  (Reuters) - Puerto Rico Governor Ricardo Rosse...  politicsNews   \n",
      "3  On Monday, Donald Trump once again embarrassed...          News   \n",
      "4  GLASGOW, Scotland (Reuters) - Most U.S. presid...  politicsNews   \n",
      "\n",
      "                  date  label  \n",
      "0    February 13, 2017      1  \n",
      "1       April 5, 2017       0  \n",
      "2  September 27, 2017       0  \n",
      "3         May 22, 2017      1  \n",
      "4       June 24, 2016       0  \n"
     ]
    }
   ],
   "source": [
    "import pandas as pd\n",
    "\n",
    "# Load both fake and real news files\n",
    "fake_df = pd.read_csv(\"/kaggle/input/fake-and-real-news-dataset/Fake.csv\")\n",
    "real_df = pd.read_csv(\"/kaggle/input/fake-and-real-news-dataset/True.csv\")\n",
    "\n",
    "# Add labels\n",
    "fake_df['label'] = 1  # 1 for fake news\n",
    "real_df['label'] = 0  # 0 for real news\n",
    "\n",
    "# Combine datasets\n",
    "df = pd.concat([fake_df, real_df], axis=0)\n",
    "\n",
    "# Shuffle the dataset to mix fake and real news\n",
    "df = df.sample(frac=1, random_state=42).reset_index(drop=True)\n",
    "\n",
    "# Basic exploration\n",
    "print(f\"Total articles: {len(df)}\")\n",
    "print(f\"Fake news count: {len(df[df['label']==1])}\")\n",
    "print(f\"Real news count: {len(df[df['label']==0])}\")\n",
    "print(\"\\nSample data:\")\n",
    "print(df.head())"
   ]
  },
  {
   "cell_type": "code",
   "execution_count": 3,
   "id": "5309d503",
   "metadata": {
    "execution": {
     "iopub.execute_input": "2025-05-11T10:04:57.073632Z",
     "iopub.status.busy": "2025-05-11T10:04:57.073337Z",
     "iopub.status.idle": "2025-05-11T10:07:12.457436Z",
     "shell.execute_reply": "2025-05-11T10:07:12.456290Z"
    },
    "papermill": {
     "duration": 135.390161,
     "end_time": "2025-05-11T10:07:12.460668",
     "exception": false,
     "start_time": "2025-05-11T10:04:57.070507",
     "status": "completed"
    },
    "tags": []
   },
   "outputs": [
    {
     "name": "stderr",
     "output_type": "stream",
     "text": [
      "[nltk_data] Error loading stopwords: <urlopen error [Errno -3]\n",
      "[nltk_data]     Temporary failure in name resolution>\n",
      "[nltk_data] Error loading wordnet: <urlopen error [Errno -3] Temporary\n",
      "[nltk_data]     failure in name resolution>\n"
     ]
    },
    {
     "name": "stdout",
     "output_type": "stream",
     "text": [
      "\n",
      "Cleaned sample:\n",
      "                                             content  label\n",
      "0  ben stein call 9th circuit court committed ‘co...      1\n",
      "1  trump drop steve bannon national security coun...      0\n",
      "2  puerto rico expects u lift jones act shipping ...      0\n",
      "3  oops trump accidentally confirmed leaked israe...      1\n",
      "4  donald trump head scotland reopen golf resort ...      0\n"
     ]
    }
   ],
   "source": [
    "import re\n",
    "import string\n",
    "from nltk.corpus import stopwords\n",
    "from nltk.stem import WordNetLemmatizer\n",
    "import nltk\n",
    "\n",
    "nltk.download('stopwords')\n",
    "nltk.download('wordnet')\n",
    "\n",
    "def clean_text(text):\n",
    "    # Convert to lowercase\n",
    "    text = text.lower()\n",
    "    \n",
    "    # Remove URLs\n",
    "    text = re.sub(r'http\\S+|www\\S+|https\\S+', '', text, flags=re.MULTILINE)\n",
    "    \n",
    "    # Remove punctuation\n",
    "    text = text.translate(str.maketrans('', '', string.punctuation))\n",
    "    \n",
    "    # Remove stopwords\n",
    "    stop_words = set(stopwords.words('english'))\n",
    "    words = text.split()\n",
    "    words = [word for word in words if word not in stop_words]\n",
    "    \n",
    "    # Lemmatization (more advanced than stemming)\n",
    "    lemmatizer = WordNetLemmatizer()\n",
    "    words = [lemmatizer.lemmatize(word) for word in words]\n",
    "    \n",
    "    return ' '.join(words)\n",
    "\n",
    "# Apply cleaning to both title and text\n",
    "df['clean_title'] = df['title'].apply(clean_text)\n",
    "df['clean_text'] = df['text'].apply(clean_text)\n",
    "\n",
    "# Combine title and text for better features\n",
    "df['content'] = df['clean_title'] + ' ' + df['clean_text']\n",
    "\n",
    "print(\"\\nCleaned sample:\")\n",
    "print(df[['content', 'label']].head())"
   ]
  },
  {
   "cell_type": "code",
   "execution_count": null,
   "id": "de910e5a",
   "metadata": {
    "papermill": {
     "duration": 0.001662,
     "end_time": "2025-05-11T10:07:12.464482",
     "exception": false,
     "start_time": "2025-05-11T10:07:12.462820",
     "status": "completed"
    },
    "tags": []
   },
   "outputs": [],
   "source": []
  }
 ],
 "metadata": {
  "kaggle": {
   "accelerator": "none",
   "dataSources": [
    {
     "datasetId": 4831777,
     "sourceId": 8165591,
     "sourceType": "datasetVersion"
    }
   ],
   "dockerImageVersionId": 31012,
   "isGpuEnabled": false,
   "isInternetEnabled": false,
   "language": "python",
   "sourceType": "notebook"
  },
  "kernelspec": {
   "display_name": "Python 3",
   "language": "python",
   "name": "python3"
  },
  "language_info": {
   "codemirror_mode": {
    "name": "ipython",
    "version": 3
   },
   "file_extension": ".py",
   "mimetype": "text/x-python",
   "name": "python",
   "nbconvert_exporter": "python",
   "pygments_lexer": "ipython3",
   "version": "3.11.11"
  },
  "papermill": {
   "default_parameters": {},
   "duration": 146.463345,
   "end_time": "2025-05-11T10:07:13.590370",
   "environment_variables": {},
   "exception": null,
   "input_path": "__notebook__.ipynb",
   "output_path": "__notebook__.ipynb",
   "parameters": {},
   "start_time": "2025-05-11T10:04:47.127025",
   "version": "2.6.0"
  }
 },
 "nbformat": 4,
 "nbformat_minor": 5
}
